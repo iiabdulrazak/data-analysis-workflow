{
 "cells": [
  {
   "cell_type": "code",
   "execution_count": 1,
   "metadata": {},
   "outputs": [],
   "source": [
    "try:\n",
    "    import time\n",
    "    import csv\n",
    "    import pandas as pd\n",
    "    import psycopg2 as conn\n",
    "    from configurations.PostgreSQL_Config import config\n",
    "except:\n",
    "    !pip install psycopg2\n",
    "    import time\n",
    "    import csv\n",
    "    import pandas as pd\n",
    "    import psycopg2 as conn\n",
    "    from configurations.PostgreSQL_Config import config"
   ]
  },
  {
   "cell_type": "code",
   "execution_count": 2,
   "metadata": {},
   "outputs": [],
   "source": [
    "def UserInput():\n",
    "    #declaring user information\n",
    "    print('[🔥] Getting User Details ...')\n",
    "    #making the (DBname,DBtable,DBuser,DBpass) global for other functions\n",
    "    global DBname,DBtable,DBuser,DBpass\n",
    "    DBname = input(\"Enter New Database Name: \")\n",
    "    DBtable= input(\"Enter New Table Name: \")\n",
    "    DBuser = input(\"Enter New Username: \")\n",
    "    DBpass = input(\"Enter New User Password: \")\n",
    "    print('[✔] All Details Stored Successfully!\\n')"
   ]
  },
  {
   "cell_type": "code",
   "execution_count": 3,
   "metadata": {},
   "outputs": [],
   "source": [
    "def DBConnect():\n",
    "    #creating connection, configuration and initializing the cursor\n",
    "    global cursor, DBconnect #making the cursor global for other functions\n",
    "    DBconnect  = conn.connect(**config)\n",
    "    autocommit = conn.extensions.ISOLATION_LEVEL_AUTOCOMMIT\n",
    "    DBconnect.set_isolation_level(autocommit)\n",
    "    cursor = DBconnect.cursor()\n",
    "    #check if connection established!\n",
    "    print(f'[🔥] Connecting to Database ... \\n{DBconnect}\\\n",
    "          \\n[✔] Connected Successfully!\\n')"
   ]
  },
  {
   "cell_type": "code",
   "execution_count": 4,
   "metadata": {},
   "outputs": [],
   "source": [
    "def CreateDBUser():\n",
    "    #create new database user if exists and check for it\n",
    "    try:\n",
    "        startCreateDBUser = time.time()\n",
    "        print('\\n[🔥] Creating New database user ...')\n",
    "        dbqueryCreateUser = \"CREATE USER {} WITH PASSWORD '{}';\".format(DBuser,DBpass)\n",
    "        dbqueryGrantUser  = \"GRANT ALL PRIVILEGES ON DATABASE {} TO {};\".format(DBname,DBuser)\n",
    "        cursor.execute(dbqueryCreateUser, dbqueryGrantUser)\n",
    "        endCreateDBUser   = time.time()\n",
    "        print(f'[✔] Finished creating database user!\\nTime to create database user: {round(endCreateDBUser-startCreateDBUser, 2)} sec\\n')\n",
    "    except:\n",
    "        pass\n",
    "        print(f'[✔] User: {DBuser} Exists and Have All Privileges!')"
   ]
  },
  {
   "cell_type": "code",
   "execution_count": 5,
   "metadata": {},
   "outputs": [],
   "source": [
    "def CreateDB():\n",
    "    #create new database and checks if exists and handle it\n",
    "    try:\n",
    "        startCreateDB = time.time()\n",
    "        print('[🔥] Checking if database exists or creating new one ...')\n",
    "        dbqueryCreate = \"CREATE DATABASE {};\".format(DBname)\n",
    "        cursor.execute(dbqueryCreate)\n",
    "        endCreateDB   = time.time()\n",
    "        print(f'[✔] Finished creating database!\\nTime to create database: {round(endCreateDB-startCreateDB, 2)} sec\\n')\n",
    "    except:\n",
    "        pass\n",
    "        print(f'[✔] Database: {DBname} Exists and Can Accessed!')"
   ]
  },
  {
   "cell_type": "code",
   "execution_count": 6,
   "metadata": {},
   "outputs": [],
   "source": [
    "def TableInsertDB():\n",
    "    #creating database table and calc time of excution\n",
    "    startCreate = time.time()\n",
    "    print('[🔥] Checking if table exists or creating one ...')\n",
    "    dbquery = \"CREATE TABLE IF NOT EXISTS {} (iso_code text, continent text, location text, date date, total_cases decimal NULL, new_cases decimal NULL, total_deaths decimal NULL, new_deaths decimal NULL, icu_patients decimal NULL, new_tests decimal NULL, total_tests decimal NULL, positive_rate real NULL, total_vaccinations decimal NULL, people_vaccinated decimal NULL, people_fully_vaccinated decimal NULL, new_vaccinations decimal NULL, population decimal NULL, median_age decimal NULL, aged_65_older decimal NULL, aged_70_older decimal NULL, female_smokers decimal NULL, male_smokers decimal NULL, human_development_index decimal NULL);\".format(DBtable)\n",
    "    cursor.execute(dbquery)\n",
    "    endCreate   = time.time()\n",
    "    print(f'[✔] Finished creating Table: {DBtable}!\\nTime to create/check Table: {round(endCreate-startCreate, 2)} sec\\n')\n",
    "\n",
    "    #Inserting to the table we inserted before!\n",
    "    csv_data = csv.reader(open('../datasets/created/ksa.csv'))\n",
    "    print('[🔥] Inserting in Process ...!')\n",
    "    startInsert = time.time()\n",
    "    for row in csv_data:\n",
    "        print(row)\n",
    "        cursor.execute(\n",
    "            \"INSERT INTO {} (iso_code,continent,location,date,total_cases,new_cases,total_deaths,new_deaths,icu_patients,new_tests,total_tests,positive_rate,total_vaccinations,people_vaccinated,people_fully_vaccinated,new_vaccinations,population,median_age,aged_65_older,aged_70_older,female_smokers,male_smokers,human_development_index) VALUES (%s,%s,%s,%s,%s,%s,%s,%s,%s,%s,%s,%s,%s,%s,%s,%s,%s,%s,%s,%s,%s,%s,%s)\".format(DBtable), row)\n",
    "    endInsert  = time.time()\n",
    "    print(f'[✔] Finished inserting!\\nTime to insert all data: {round(endInsert-startInsert, 2)} sec\\n')\n",
    "\n",
    "    #Closing connection and commits\n",
    "    DBconnect.commit()\n",
    "    cursor.close()\n",
    "    DBconnect.close()\n",
    "    print('[✔] Process Done!')"
   ]
  },
  {
   "cell_type": "code",
   "execution_count": 7,
   "metadata": {},
   "outputs": [
    {
     "name": "stdout",
     "output_type": "stream",
     "text": [
      "[🔥] Getting User Details ...\n",
      "Enter New Database Name: coronadb\n",
      "Enter New Table Name: ksadata\n",
      "Enter New Username: abdulrazak\n",
      "Enter New User Password: Zaak1234@\n",
      "[✔] All Details Stored Successfully!\n",
      "\n"
     ]
    }
   ],
   "source": [
    "#excuting all functions results!\n",
    "UserInput()"
   ]
  },
  {
   "cell_type": "code",
   "execution_count": 8,
   "metadata": {},
   "outputs": [
    {
     "name": "stdout",
     "output_type": "stream",
     "text": [
      "[🔥] Connecting to Database ... \n",
      "<connection object at 0x7f6c438a4040; dsn: 'user=postgres password=xxx dbname=postgres host=35.197.156.122 port=5432', closed: 0>          \n",
      "[✔] Connected Successfully!\n",
      "\n"
     ]
    }
   ],
   "source": [
    "DBConnect()"
   ]
  },
  {
   "cell_type": "code",
   "execution_count": 9,
   "metadata": {},
   "outputs": [
    {
     "name": "stdout",
     "output_type": "stream",
     "text": [
      "\n",
      "[🔥] Creating New database user ...\n",
      "[✔] User: abdulrazak Exists and Have All Privileges!\n"
     ]
    }
   ],
   "source": [
    "CreateDBUser()"
   ]
  },
  {
   "cell_type": "code",
   "execution_count": 10,
   "metadata": {},
   "outputs": [
    {
     "name": "stdout",
     "output_type": "stream",
     "text": [
      "[🔥] Checking if database exists or creating new one ...\n",
      "[✔] Database: coronadb Exists and Can Accessed!\n"
     ]
    }
   ],
   "source": [
    "CreateDB()"
   ]
  },
  {
   "cell_type": "code",
   "execution_count": 11,
   "metadata": {},
   "outputs": [
    {
     "name": "stdout",
     "output_type": "stream",
     "text": [
      "[🔥] Checking if table exists or creating one ...\n",
      "[✔] Finished creating Table: ksadata!\n",
      "Time to create/check Table: 0.33 sec\n",
      "\n",
      "[🔥] Inserting in Process ...!\n",
      "['iso_code', 'continent', 'location', 'date', 'total_cases', 'new_cases', 'total_deaths', 'new_deaths', 'icu_patients', 'new_tests', 'total_tests', 'positive_rate', 'total_vaccinations', 'people_vaccinated', 'people_fully_vaccinated', 'new_vaccinations', 'population', 'median_age', 'aged_65_older', 'aged_70_older', 'female_smokers', 'male_smokers', 'human_development_index']\n"
     ]
    },
    {
     "ename": "InvalidDatetimeFormat",
     "evalue": "invalid input syntax for type date: \"date\"\nLINE 1: ..._index) VALUES ('iso_code','continent','location','date','to...\n                                                             ^\n",
     "output_type": "error",
     "traceback": [
      "\u001b[0;31m--------------------------------------------------------------------------\u001b[0m",
      "\u001b[0;31mInvalidDatetimeFormat\u001b[0m                    Traceback (most recent call last)",
      "\u001b[0;32m<ipython-input-11-030d788d08dd>\u001b[0m in \u001b[0;36m<module>\u001b[0;34m\u001b[0m\n\u001b[0;32m----> 1\u001b[0;31m \u001b[0mTableInsertDB\u001b[0m\u001b[0;34m(\u001b[0m\u001b[0;34m)\u001b[0m\u001b[0;34m\u001b[0m\u001b[0;34m\u001b[0m\u001b[0m\n\u001b[0m",
      "\u001b[0;32m<ipython-input-6-a9e3f842c495>\u001b[0m in \u001b[0;36mTableInsertDB\u001b[0;34m()\u001b[0m\n\u001b[1;32m     14\u001b[0m     \u001b[0;32mfor\u001b[0m \u001b[0mrow\u001b[0m \u001b[0;32min\u001b[0m \u001b[0mcsv_data\u001b[0m\u001b[0;34m:\u001b[0m\u001b[0;34m\u001b[0m\u001b[0;34m\u001b[0m\u001b[0m\n\u001b[1;32m     15\u001b[0m         \u001b[0mprint\u001b[0m\u001b[0;34m(\u001b[0m\u001b[0mrow\u001b[0m\u001b[0;34m)\u001b[0m\u001b[0;34m\u001b[0m\u001b[0;34m\u001b[0m\u001b[0m\n\u001b[0;32m---> 16\u001b[0;31m         cursor.execute(\n\u001b[0m\u001b[1;32m     17\u001b[0m             \"INSERT INTO {} (iso_code,continent,location,date,total_cases,new_cases,total_deaths,new_deaths,icu_patients,new_tests,total_tests,positive_rate,total_vaccinations,people_vaccinated,people_fully_vaccinated,new_vaccinations,population,median_age,aged_65_older,aged_70_older,female_smokers,male_smokers,human_development_index) VALUES (%s,%s,%s,%s,%s,%s,%s,%s,%s,%s,%s,%s,%s,%s,%s,%s,%s,%s,%s,%s,%s,%s,%s)\".format(DBtable), row)\n\u001b[1;32m     18\u001b[0m     \u001b[0mendInsert\u001b[0m  \u001b[0;34m=\u001b[0m \u001b[0mtime\u001b[0m\u001b[0;34m.\u001b[0m\u001b[0mtime\u001b[0m\u001b[0;34m(\u001b[0m\u001b[0;34m)\u001b[0m\u001b[0;34m\u001b[0m\u001b[0;34m\u001b[0m\u001b[0m\n",
      "\u001b[0;31mInvalidDatetimeFormat\u001b[0m: invalid input syntax for type date: \"date\"\nLINE 1: ..._index) VALUES ('iso_code','continent','location','date','to...\n                                                             ^\n"
     ]
    }
   ],
   "source": [
    "TableInsertDB()"
   ]
  },
  {
   "cell_type": "code",
   "execution_count": null,
   "metadata": {},
   "outputs": [],
   "source": []
  }
 ],
 "metadata": {
  "kernelspec": {
   "display_name": "Python 3.8.5 64-bit ('env': venv)",
   "language": "python",
   "name": "python385jvsc74a57bd09d850c51ee04f83f0726e30bf8664ec939a9c72d73ef564e8f2cf0925ccbda39"
  },
  "language_info": {
   "codemirror_mode": {
    "name": "ipython",
    "version": 3
   },
   "file_extension": ".py",
   "mimetype": "text/x-python",
   "name": "python",
   "nbconvert_exporter": "python",
   "pygments_lexer": "ipython3",
   "version": "3.8.10"
  }
 },
 "nbformat": 4,
 "nbformat_minor": 4
}
